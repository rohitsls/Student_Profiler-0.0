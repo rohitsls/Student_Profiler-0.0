{
 "cells": [
  {
   "cell_type": "code",
   "execution_count": 1,
   "metadata": {},
   "outputs": [],
   "source": [
    "import pandas as pd\n",
    "import numpy as np\n",
    "from IPython.display import display as display_dataframe\n",
    "from sklearn.model_selection import train_test_split, GridSearchCV\n",
    "from sklearn.metrics import mean_squared_error, mean_absolute_error, median_absolute_error, r2_score\n",
    "#supervised\n",
    "from sklearn.linear_model import LinearRegression, LogisticRegression\n",
    "from sklearn.svm import LinearSVR\n",
    "from sklearn.neighbors import KNeighborsRegressor\n",
    "from sklearn.tree import DecisionTreeRegressor\n",
    "from sklearn.neural_network import MLPRegressor\n",
    "from sklearn.ensemble import RandomForestRegressor\n",
    "#unsupervised\n",
    "from sklearn.cluster import KMeans, SpectralClustering, AgglomerativeClustering\n",
    "#visualisation\n",
    "import matplotlib.pyplot as plt\n",
    "import seaborn as sns"
   ]
  },
  {
   "cell_type": "markdown",
   "metadata": {},
   "source": [
    "# Data"
   ]
  },
  {
   "cell_type": "code",
   "execution_count": 22,
   "metadata": {},
   "outputs": [
    {
     "name": "stdout",
     "output_type": "stream",
     "text": [
      "(891, 35) (480, 35) (891,) (480,)\n"
     ]
    }
   ],
   "source": [
    "data = pd.read_csv(\"oversampled.csv\")\n",
    "# X, y = data.drop(['Performance', 'Self Awareness', 'Self Regulation', 'Motivation', 'Empathy', 'Social Skills'], axis=1), data['Performance']\n",
    "X_train, y_train = data.drop(['Performance', 'Performance_bins'], axis=1), data['Performance']\n",
    "data = pd.read_csv(\"data/data.csv\")\n",
    "X_test, y_test = data.drop(['Performance'], axis=1), data['Performance']\n",
    "# del data, X, y\n",
    "print(X_train.shape, X_test.shape, y_train.shape, y_test.shape)"
   ]
  },
  {
   "cell_type": "code",
   "execution_count": 9,
   "metadata": {},
   "outputs": [
    {
     "data": {
      "text/plain": [
       "Index(['Unnamed: 0', 'Family Size', 'Living with parents?', 'Mother Edu',\n",
       "       'Father Edu', 'Parent Income', 'Commute time', 'Avg study time',\n",
       "       'Educational support', 'Extra-curricular', 'Higher studies',\n",
       "       'Internet at home?', 'Tuition count', 'Health', 'Avg leaves',\n",
       "       'Performance', 'Self Awareness', 'Self Regulation', 'Motivation',\n",
       "       'Empathy', 'Social Skills', 'Extroverted', 'Intuitive', 'Thinking',\n",
       "       'Perceiving', 'IX', 'X', 'XI', 'XII', 'Female', 'Male',\n",
       "       'Other means of travel', 'Travel by Bus', 'Travel by auto-rikshaw',\n",
       "       'Travel by car', 'Travel by walk'],\n",
       "      dtype='object')"
      ]
     },
     "execution_count": 9,
     "metadata": {},
     "output_type": "execute_result"
    }
   ],
   "source": [
    "pd.read_csv(\"data/data.csv\").columns"
   ]
  },
  {
   "cell_type": "code",
   "execution_count": 11,
   "metadata": {},
   "outputs": [
    {
     "name": "stdout",
     "output_type": "stream",
     "text": [
      "(360, 29) (120, 29) (360,) (120,)\n"
     ]
    }
   ],
   "source": [
    "data = pd.read_csv(\"data/data.csv\")\n",
    "X, y = data.drop(['Performance', 'Self Awareness', 'Self Regulation', 'Motivation', 'Empathy', 'Social Skills', 'Unnamed: 0'], axis=1), data['Performance']\n",
    "# X, y = data.drop('Performance', axis=1), data['Performance']\n",
    "X_train, X_test, y_train, y_test = train_test_split(X, y, test_size=0.25, random_state=40)\n",
    "del data, X, y\n",
    "print(X_train.shape, X_test.shape, y_train.shape, y_test.shape)"
   ]
  },
  {
   "cell_type": "code",
   "execution_count": 62,
   "metadata": {},
   "outputs": [
    {
     "name": "stdout",
     "output_type": "stream",
     "text": [
      "(360, 31) (120, 31) (360,) (120,)\n"
     ]
    }
   ],
   "source": [
    "data = pd.read_csv(\"data_scaled_with_DT.csv\")\n",
    "X, y = data.drop(['Performance'], axis=1), data['Performance']\n",
    "# X, y = data.drop('Performance', axis=1), data['Performance']\n",
    "X_train, X_test, y_train, y_test = train_test_split(X, y, test_size=0.25, random_state=40)\n",
    "del data, X, y\n",
    "print(X_train.shape, X_test.shape, y_train.shape, y_test.shape)"
   ]
  },
  {
   "cell_type": "markdown",
   "metadata": {},
   "source": [
    "# Models"
   ]
  },
  {
   "cell_type": "code",
   "execution_count": 14,
   "metadata": {
    "scrolled": false
   },
   "outputs": [
    {
     "name": "stdout",
     "output_type": "stream",
     "text": [
      "count    120.000000\n",
      "mean      51.273750\n",
      "std       19.493247\n",
      "min       12.200000\n",
      "25%       36.662500\n",
      "50%       50.050000\n",
      "75%       66.633333\n",
      "max       92.000000\n",
      "Name: Performance, dtype: float64\n",
      "\n",
      "\n",
      " Linear Regression\n",
      "count    120.000000\n",
      "mean      48.643490\n",
      "std       10.992932\n",
      "min       23.437500\n",
      "25%       39.875000\n",
      "50%       50.062500\n",
      "75%       57.281250\n",
      "max       67.468750\n",
      "dtype: float64\n",
      "276.41359935619596\n",
      "13.458697916667498\n",
      "12.221874999999999\n",
      "-1.3065699863707576\n"
     ]
    },
    {
     "data": {
      "image/png": "[encoded data removed]",
      "text/plain": [
       "<Figure size 432x288 with 1 Axes>"
      ]
     },
     "metadata": {},
     "output_type": "display_data"
    },
    {
     "name": "stdout",
     "output_type": "stream",
     "text": [
      "\n",
      "\n",
      " SVM\n",
      "count    120.000000\n",
      "mean      46.881370\n",
      "std       10.897579\n",
      "min       16.463673\n",
      "25%       37.863792\n",
      "50%       49.531143\n",
      "75%       55.629063\n",
      "max       63.711650\n",
      "dtype: float64\n",
      "282.77012947609006\n",
      "13.469206305748411\n",
      "11.4267021131506\n",
      "-1.4010864758873578\n"
     ]
    },
    {
     "data": {
      "image/png": "[encoded data removed]",
      "text/plain": [
       "<Figure size 432x288 with 1 Axes>"
      ]
     },
     "metadata": {},
     "output_type": "display_data"
    },
    {
     "name": "stdout",
     "output_type": "stream",
     "text": [
      "\n",
      "\n",
      " Decision Tree\n",
      "count    120.000000\n",
      "mean      49.649514\n",
      "std       19.706347\n",
      "min       14.800000\n",
      "25%       33.666667\n",
      "50%       47.466667\n",
      "75%       65.400000\n",
      "max       93.500000\n",
      "dtype: float64\n",
      "476.3536961803977\n",
      "17.4300694444425\n",
      "14.716666666666663\n",
      "-0.23694838701908472\n"
     ]
    },
    {
     "data": {
      "image/png": "[encoded data removed]",
      "text/plain": [
       "<Figure size 432x288 with 1 Axes>"
      ]
     },
     "metadata": {},
     "output_type": "display_data"
    },
    {
     "name": "stdout",
     "output_type": "stream",
     "text": [
      "\n",
      "\n",
      " KNN\n",
      "count    120.000000\n",
      "mean      48.646859\n",
      "std        8.363904\n",
      "min       28.203846\n",
      "25%       42.920673\n",
      "50%       50.446154\n",
      "75%       54.664744\n",
      "max       64.961538\n",
      "dtype: float64\n",
      "317.31060290651607\n",
      "14.32413461538423\n",
      "11.915064102562827\n",
      "-3.57404849848888\n"
     ]
    },
    {
     "data": {
      "image/png": "[encoded data removed]",
      "text/plain": [
       "<Figure size 432x288 with 1 Axes>"
      ]
     },
     "metadata": {},
     "output_type": "display_data"
    },
    {
     "name": "stdout",
     "output_type": "stream",
     "text": [
      "\n",
      "\n",
      " Random Forest\n",
      "count    120.000000\n",
      "mean      48.397957\n",
      "std       11.291583\n",
      "min       22.383333\n",
      "25%       40.296354\n",
      "50%       49.534722\n",
      "75%       57.162500\n",
      "max       68.819444\n",
      "dtype: float64\n",
      "282.2108748512945\n",
      "13.705075231480997\n",
      "11.507291666666667\n",
      "-1.2320213075243274\n"
     ]
    },
    {
     "data": {
      "image/png": "[encoded data removed]",
      "text/plain": [
       "<Figure size 432x288 with 1 Axes>"
      ]
     },
     "metadata": {},
     "output_type": "display_data"
    },
    {
     "name": "stdout",
     "output_type": "stream",
     "text": [
      "CPU times: user 1.9 s, sys: 1.69 s, total: 3.6 s\n",
      "Wall time: 2.92 s\n"
     ]
    }
   ],
   "source": [
    "%%time\n",
    "\n",
    "models = {\n",
    "    'Linear Regression': LinearRegression(),\n",
    "    'SVM': LinearSVR(),\n",
    "    'KNN': KNeighborsRegressor(),\n",
    "    'Decision Tree': DecisionTreeRegressor(),\n",
    "    'Random Forest': RandomForestRegressor()\n",
    "}\n",
    "\n",
    "grid = {\n",
    "    'Linear Regression': {\n",
    "        \n",
    "    },\n",
    "    'SVM': {\n",
    "        'C': list(range(1, 11))\n",
    "    },\n",
    "    'KNN': {\n",
    "        'n_neighbors': list(range(3, 15, 2))\n",
    "    },\n",
    "    'Decision Tree': {\n",
    "        \n",
    "    },\n",
    "    'Random Forest': {\n",
    "        'n_estimators': list(range(3, 26, 3))\n",
    "    },\n",
    "}\n",
    "\n",
    "print(y_test.describe())\n",
    "\n",
    "metrics = [mean_squared_error, mean_absolute_error, median_absolute_error, r2_score]\n",
    "\n",
    "for model in models:\n",
    "    models[model] = GridSearchCV(models[model], param_grid=grid[model], n_jobs=-1)\n",
    "    models[model].fit(X_train, y_train)\n",
    "    print(\"\\n\\n\", model)\n",
    "    res = models[model].predict(X_test)\n",
    "    print(pd.Series(res).describe())\n",
    "#     print(mean_squared_error(res, y_test)**0.5)\n",
    "    for metric in metrics:\n",
    "        print(metric(res, y_test))  \n",
    "    plt.scatter(res, y_test)\n",
    "    plt.axis([0, 100, 0, 100])\n",
    "    plt.show()"
   ]
  },
  {
   "cell_type": "markdown",
   "metadata": {},
   "source": [
    "Model Evaluation \n",
    "\n",
    "| Model  | MSE  | R2  |\n",
    "|:-:|:-:|:-:|\n",
    "| SVM  | 282.77  | -1.4  |\n",
    "| Decision Tree  | 476.35  | -0.23  |\n",
    "| Random Forest  | 282.21  | -1.23  |\n",
    "| Linear Regression  | 276.41  | -1.3  |\n",
    "| Neural Network  | 283.08  | -0.78  |\n",
    "| KNN  | 317.31  | -3.57  |"
   ]
  },
  {
   "cell_type": "code",
   "execution_count": 4,
   "metadata": {},
   "outputs": [],
   "source": [
    "data = pd.read_csv(\"data/data.csv\")\n",
    "y = data['Performance']\n",
    "data.drop(['Performance', 'Self Awareness', 'Self Regulation', 'Motivation', 'Empathy', 'Social Skills'], axis=1, inplace=True)\n",
    "\n",
    "# for \n",
    "#     models['Linear Regression'].best_estimator_.coef_"
   ]
  },
  {
   "cell_type": "code",
   "execution_count": 5,
   "metadata": {
    "scrolled": true
   },
   "outputs": [
    {
     "data": {
      "text/plain": [
       "[('Unnamed: 0', 0),\n",
       " ('Family Size', 1),\n",
       " ('Living with parents?', -2),\n",
       " ('Mother Edu', 1),\n",
       " ('Father Edu', 8),\n",
       " ('Parent Income', 0),\n",
       " ('Commute time', 1),\n",
       " ('Avg study time', 16),\n",
       " ('Educational support', -1),\n",
       " ('Extra-curricular', 5),\n",
       " ('Higher studies', 2),\n",
       " ('Internet at home?', 0),\n",
       " ('Tuition count', 1),\n",
       " ('Health', 6),\n",
       " ('Avg leaves', -21),\n",
       " ('Extroverted', 0),\n",
       " ('Intuitive', 7),\n",
       " ('Thinking', 7),\n",
       " ('Perceiving', -2),\n",
       " ('IX', 3),\n",
       " ('X', 3),\n",
       " ('XI', -12),\n",
       " ('XII', 5),\n",
       " ('Female', 0),\n",
       " ('Male', 0),\n",
       " ('Other means of travel', -1),\n",
       " ('Travel by Bus', -1),\n",
       " ('Travel by auto-rikshaw', 0),\n",
       " ('Travel by car', -3),\n",
       " ('Travel by walk', 5)]"
      ]
     },
     "execution_count": 5,
     "metadata": {},
     "output_type": "execute_result"
    }
   ],
   "source": [
    "coeff = LinearRegression().fit(X_train, y_train).coef_.astype(np.int64)\n",
    "list(zip(data.columns, coeff))"
   ]
  },
  {
   "cell_type": "code",
   "execution_count": 60,
   "metadata": {},
   "outputs": [
    {
     "data": {
      "text/plain": [
       "[('Unnamed: 0', 12),\n",
       " ('Family Size', 2),\n",
       " ('Living with parents?', 1),\n",
       " ('Mother Edu', 2),\n",
       " ('Father Edu', 2),\n",
       " ('Parent Income', 4),\n",
       " ('Commute time', 1),\n",
       " ('Avg study time', 3),\n",
       " ('Educational support', 1),\n",
       " ('Extra-curricular', 1),\n",
       " ('Higher studies', 2),\n",
       " ('Internet at home?', 0),\n",
       " ('Tuition count', 3),\n",
       " ('Health', 5),\n",
       " ('Avg leaves', 3),\n",
       " ('Extroverted', 2),\n",
       " ('Intuitive', 3),\n",
       " ('Thinking', 4),\n",
       " ('Perceiving', 10),\n",
       " ('IX', 0),\n",
       " ('X', 1),\n",
       " ('XI', 20),\n",
       " ('XII', 0),\n",
       " ('Female', 0),\n",
       " ('Male', 0),\n",
       " ('Other means of travel', 0),\n",
       " ('Travel by Bus', 3),\n",
       " ('Travel by auto-rikshaw', 1),\n",
       " ('Travel by car', 0),\n",
       " ('Travel by walk', 0)]"
      ]
     },
     "execution_count": 60,
     "metadata": {},
     "output_type": "execute_result"
    }
   ],
   "source": [
    "coeff = (DecisionTreeRegressor().fit(X_train, y_train).feature_importances_*100).astype(np.int8)\n",
    "list(zip(data.columns, coeff))"
   ]
  },
  {
   "cell_type": "code",
   "execution_count": 61,
   "metadata": {},
   "outputs": [],
   "source": [
    "new_data = data * (coeff+0.01)\n",
    "new_data['Performance'] = y\n",
    "new_data.to_csv(\"data_scaled_with_DT.csv\")"
   ]
  }
 ],
 "metadata": {
  "kernelspec": {
   "display_name": "Python 3",
   "language": "python",
   "name": "python3"
  },
  "language_info": {
   "codemirror_mode": {
    "name": "ipython",
    "version": 3
   },
   "file_extension": ".py",
   "mimetype": "text/x-python",
   "name": "python",
   "nbconvert_exporter": "python",
   "pygments_lexer": "ipython3",
   "version": "3.5.2"
  }
 },
 "nbformat": 4,
 "nbformat_minor": 2
}
